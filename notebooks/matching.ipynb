{
 "cells": [
  {
   "cell_type": "code",
   "execution_count": 1,
   "id": "18a3dea6",
   "metadata": {},
   "outputs": [
    {
     "ename": "NameError",
     "evalue": "name 'pd' is not defined",
     "output_type": "error",
     "traceback": [
      "\u001b[0;31m---------------------------------------------------------------------------\u001b[0m",
      "\u001b[0;31mNameError\u001b[0m                                 Traceback (most recent call last)",
      "Cell \u001b[0;32mIn[1], line 8\u001b[0m\n\u001b[1;32m      5\u001b[0m \u001b[38;5;28;01mimport\u001b[39;00m\u001b[38;5;250m \u001b[39m\u001b[38;5;21;01mnumpy\u001b[39;00m\u001b[38;5;250m \u001b[39m\u001b[38;5;28;01mas\u001b[39;00m\u001b[38;5;250m \u001b[39m\u001b[38;5;21;01mnp\u001b[39;00m\n\u001b[1;32m      6\u001b[0m model \u001b[38;5;241m=\u001b[39m SentenceTransformer(\u001b[38;5;124m\"\u001b[39m\u001b[38;5;124mall-MiniLM-L6-v2\u001b[39m\u001b[38;5;124m\"\u001b[39m)\n\u001b[0;32m----> 8\u001b[0m \u001b[38;5;28;01mdef\u001b[39;00m\u001b[38;5;250m \u001b[39m\u001b[38;5;21mfastLexRank\u001b[39m(df: \u001b[43mpd\u001b[49m\u001b[38;5;241m.\u001b[39mDataFrame) \u001b[38;5;241m-\u001b[39m\u001b[38;5;241m>\u001b[39m pd\u001b[38;5;241m.\u001b[39mDataFrame:\n\u001b[1;32m      9\u001b[0m     posts \u001b[38;5;241m=\u001b[39m df[\u001b[38;5;124m\"\u001b[39m\u001b[38;5;124mpost\u001b[39m\u001b[38;5;124m\"\u001b[39m]\n\u001b[1;32m     10\u001b[0m     \u001b[38;5;66;03m#remove @mentions\u001b[39;00m\n",
      "\u001b[0;31mNameError\u001b[0m: name 'pd' is not defined"
     ]
    }
   ],
   "source": [
    "import os \n",
    "\n",
    "from sentence_transformers import SentenceTransformer\n",
    "from tqdm.auto import tqdm\n",
    "import numpy as np\n",
    "model = SentenceTransformer(\"all-MiniLM-L6-v2\")\n",
    "\n",
    "def fastLexRank(df: pd.DataFrame) -> pd.DataFrame:\n",
    "    posts = df[\"post\"]\n",
    "    #remove @mentions\n",
    "    posts = posts.str.replace(r'@\\w+', '', regex=True)\n",
    "    #remove hashtags\n",
    "    posts = posts.str.replace(r'#\\w+', '', regex=True)\n",
    "    #remove urls\n",
    "    posts = posts.str.replace(r'http\\S+', '', regex=True)\n",
    "    embeddings = model.encode(posts, show_progress_bar=True)\n",
    "    # sum in column\n",
    "    z = embeddings.sum(axis=0)\n",
    "    # normalize the sum\n",
    "    z = z / np.sqrt((z**2).sum(axis=0))\n",
    "    ap = np.dot(embeddings, z)\n",
    "    # normalize the scores by its sum\n",
    "    df[\"ap\"] = ap\n",
    "    df.sort_values(by=\"ap\")\n",
    "    return df"
   ]
  },
  {
   "cell_type": "code",
   "execution_count": 1,
   "id": "ec40e1a8-60e5-4337-97a3-f53c1481a270",
   "metadata": {},
   "outputs": [],
   "source": [
    "import json\n",
    "\n",
    "with open(file=\"../../echo-chamber/data/mastodon.trump.json\") as f:\n",
    "    data = json.load(f)"
   ]
  },
  {
   "cell_type": "code",
   "execution_count": null,
   "id": "103609e3-c185-4f62-9e5b-cf40d7586d47",
   "metadata": {},
   "outputs": [],
   "source": [
    "import re\n",
    "from bs4 import BeautifulSoup\n",
    "from fast_langdetect import detect_language\n",
    "md = []\n",
    "for post in data:\n",
    "    if not post[\"in_reply_to_id\"]:\n",
    "        reply = False\n",
    "    else:\n",
    "        reply = True\n",
    "    content = post[\"content\"]\n",
    "    # Parse the HTML content with BeautifulSoup\n",
    "    soup = BeautifulSoup(content, \"html.parser\")\n",
    "\n",
    "    # Remove all 'a' tags entirely\n",
    "    for a_tag in soup.find_all(\"a\"):\n",
    "        a_tag.unwrap()\n",
    "\n",
    "    # Get the plain text\n",
    "    plain_text = soup.get_text(separator=\" \")\n",
    "\n",
    "    # Regular expression to match and remove URLs\n",
    "    cleaned_content = re.sub(\n",
    "        r\"http[s]?://(?:[a-zA-Z]|[0-9]|[$-_@.&+]|[!*\\\\(\\\\),]|(?:%[0-9a-fA-F][0-9a-fA-F])|\\s)+\",\n",
    "        \"\",\n",
    "        plain_text,\n",
    "    )\n",
    "\n",
    "    # Remove excess spaces left by removing the link\n",
    "    cleaned_content = re.sub(r\"\\s+\", \" \", cleaned_content).strip()\n",
    "    lang = detect_language(cleaned_content)\n",
    "    if cleaned_content:\n",
    "        md.append([post[\"id\"], cleaned_content, lang, reply, post.get(\"in_reply_to_id\", None),])"
   ]
  },
  {
   "cell_type": "code",
   "execution_count": 3,
   "id": "e2a948c6-10ea-4437-a1d2-9b28f8b70bba",
   "metadata": {},
   "outputs": [],
   "source": [
    "import pandas as pd\n",
    "\n",
    "md_df = pd.DataFrame(md, columns=[\"id\", \"post\", \"lang\", \"reply\", \"in_reply_to_id\"])\n"
   ]
  },
  {
   "cell_type": "code",
   "execution_count": 4,
   "id": "5ee650b8",
   "metadata": {},
   "outputs": [],
   "source": [
    "import networkx as nx\n",
    "\n",
    "md_graph = nx.DiGraph()\n",
    "md_edge_list = md_df[[\"id\", \"in_reply_to_id\"]].values.tolist()\n",
    "# Create a directed graph\n",
    "\n",
    "# Add edges, skipping any with None as parent\n",
    "for child, parent in md_edge_list:\n",
    "    if parent is not None:\n",
    "        md_graph.add_edge(parent, child)\n",
    "    else:\n",
    "        # Optionally, add the root node manually\n",
    "        md_graph.add_node(child)\n",
    "\n"
   ]
  },
  {
   "cell_type": "code",
   "execution_count": 59,
   "id": "85826274",
   "metadata": {},
   "outputs": [
    {
     "name": "stderr",
     "output_type": "stream",
     "text": [
      "Batches: 100%|██████████| 3457/3457 [00:38<00:00, 90.35it/s] \n"
     ]
    }
   ],
   "source": [
    "md_df = fastLexRank(md_df)"
   ]
  },
  {
   "cell_type": "code",
   "execution_count": 73,
   "id": "f5cfff1b",
   "metadata": {},
   "outputs": [],
   "source": [
    "md_df.sort_values(by='ap',ascending=False)[:20].to_csv(\"md_top20.csv\")"
   ]
  },
  {
   "cell_type": "code",
   "execution_count": null,
   "id": "3a43a742",
   "metadata": {},
   "outputs": [],
   "source": [
    "data[0]"
   ]
  },
  {
   "cell_type": "code",
   "execution_count": 5,
   "id": "b813acb2-1b0b-45fc-9115-53e05aeff440",
   "metadata": {},
   "outputs": [],
   "source": [
    "import json\n",
    "\n",
    "with open(file=\"../../echo-chamber/data/bsky.trump.json\") as f:\n",
    "    bsky = json.load(f)\n"
   ]
  },
  {
   "cell_type": "code",
   "execution_count": 6,
   "id": "5602a542-21f9-46c0-b96b-af44a7454ab9",
   "metadata": {},
   "outputs": [],
   "source": [
    "bsky_data = []\n",
    "from fast_langdetect import detect_language\n",
    "\n",
    "for post in bsky:\n",
    "    if not post[\"record\"].get(\"reply\", None):\n",
    "        reply = False\n",
    "    else:\n",
    "        reply = True\n",
    "    if post[\"record\"].get(\"text\", None):\n",
    "        language = post[\"record\"].get(\"langs\", None)\n",
    "        language = language[0] if language else None\n",
    "        if not language:\n",
    "            language = detect_language(\n",
    "                post[\"record\"][\"text\"].replace(\"\\n\", \" \")\n",
    "            ).lower()\n",
    "        bsky_data.append([post[\"_id\"], post[\"record\"][\"text\"], language, reply, post[\"record\"].get(\"reply\", {}).get(\"parent\", {}).get('uri',None),])"
   ]
  },
  {
   "cell_type": "code",
   "execution_count": 7,
   "id": "bf8550b2-65eb-4d67-88d2-547db87f2305",
   "metadata": {},
   "outputs": [],
   "source": [
    "import pandas as pd\n",
    "\n",
    "bsky_df = pd.DataFrame(bsky_data, columns=[\"id\", \"post\", \"lang\", \"reply\", \"in_reply_to_id\"])"
   ]
  },
  {
   "cell_type": "code",
   "execution_count": 8,
   "id": "36187bd4",
   "metadata": {},
   "outputs": [],
   "source": [
    "bsky_graph = nx.DiGraph()\n",
    "bsky_edge_list = bsky_df[[\"id\", \"in_reply_to_id\"]].values.tolist()\n",
    "# Create a directed graph\n",
    "\n",
    "# Add edges, skipping any with None as parent\n",
    "for child, parent in bsky_edge_list:\n",
    "    if parent is not None:\n",
    "        bsky_graph.add_edge(parent, child)\n",
    "    else:\n",
    "        # Optionally, add the root node manually\n",
    "        bsky_graph.add_node(child)\n"
   ]
  },
  {
   "cell_type": "code",
   "execution_count": 92,
   "id": "d2d3dd8f",
   "metadata": {},
   "outputs": [
    {
     "data": {
      "text/plain": [
       "1681503"
      ]
     },
     "execution_count": 92,
     "metadata": {},
     "output_type": "execute_result"
    }
   ],
   "source": [
    "bsky_graph.number_of_edges()"
   ]
  },
  {
   "cell_type": "code",
   "execution_count": 62,
   "id": "2a74c29c",
   "metadata": {},
   "outputs": [
    {
     "name": "stderr",
     "output_type": "stream",
     "text": [
      "Batches: 100%|██████████| 73985/73985 [12:35<00:00, 97.90it/s] \n"
     ]
    }
   ],
   "source": [
    "bsky_df = fastLexRank(bsky_df)"
   ]
  },
  {
   "cell_type": "code",
   "execution_count": 72,
   "id": "d86086b1",
   "metadata": {},
   "outputs": [],
   "source": [
    "bsky_df.sort_values(by='ap',ascending=False)[:20].to_csv(\"bsky_top20.csv\")"
   ]
  },
  {
   "cell_type": "code",
   "execution_count": 39,
   "id": "5fc1d8ed",
   "metadata": {},
   "outputs": [
    {
     "data": {
      "text/plain": [
       "reply\n",
       "True     1681503\n",
       "False     686010\n",
       "Name: count, dtype: int64"
      ]
     },
     "execution_count": 39,
     "metadata": {},
     "output_type": "execute_result"
    }
   ],
   "source": [
    "bsky_df.reply.value_counts()"
   ]
  },
  {
   "cell_type": "code",
   "execution_count": 6,
   "id": "63861a8b",
   "metadata": {},
   "outputs": [],
   "source": [
    "bsky_df[\"lang\"].value_counts()[:10]"
   ]
  },
  {
   "cell_type": "code",
   "execution_count": 9,
   "id": "65e80fae",
   "metadata": {},
   "outputs": [
    {
     "data": {
      "text/plain": [
       "lang\n",
       "en     1299573\n",
       "de      741698\n",
       "ja      122146\n",
       "fr       38315\n",
       "sv       24420\n",
       "        ...   \n",
       "tt           1\n",
       "kk           1\n",
       "jbo          1\n",
       "ur           1\n",
       "sw           1\n",
       "Name: count, Length: 122, dtype: int64"
      ]
     },
     "execution_count": 9,
     "metadata": {},
     "output_type": "execute_result"
    }
   ],
   "source": [
    "bsky_df[\"lang\"].value_counts()"
   ]
  },
  {
   "cell_type": "code",
   "execution_count": 7,
   "id": "975504d1",
   "metadata": {},
   "outputs": [],
   "source": [
    "bsky_df[\"post\"].nunique()"
   ]
  },
  {
   "cell_type": "code",
   "execution_count": 2,
   "id": "90bf1a1d-325d-4d30-b36f-3b893a755401",
   "metadata": {},
   "outputs": [],
   "source": [
    "import json\n",
    "\n",
    "with open(file=\"../../echo-chamber/data/truthsocial.trump.json\") as f:\n",
    "    ts = json.load(f)\n"
   ]
  },
  {
   "cell_type": "code",
   "execution_count": null,
   "id": "534ab590-053d-43ae-984a-c5c81473c83f",
   "metadata": {},
   "outputs": [],
   "source": [
    "import re\n",
    "from bs4 import BeautifulSoup\n",
    "\n",
    "ts_data = []\n",
    "for post in ts:\n",
    "    if post[\"in_reply_to_id\"] or post[\"quote_id\"]:\n",
    "        reply = True\n",
    "    else:\n",
    "        reply = False\n",
    "    content = post[\"content\"]\n",
    "    # Parse the HTML content with BeautifulSoup\n",
    "    soup = BeautifulSoup(content, \"html.parser\")\n",
    "\n",
    "    # Remove all 'a' tags entirely\n",
    "    for a_tag in soup.find_all(\"a\"):\n",
    "        a_tag.unwrap()\n",
    "\n",
    "    # Get the plain text\n",
    "    plain_text = soup.get_text(separator=\" \")\n",
    "\n",
    "    # Regular expression to match and remove URLs\n",
    "    cleaned_content = re.sub(\n",
    "        r\"http[s]?://(?:[a-zA-Z]|[0-9]|[$-_@.&+]|[!*\\\\(\\\\),]|(?:%[0-9a-fA-F][0-9a-fA-F])|\\s)+\",\n",
    "        \"\",\n",
    "        plain_text,\n",
    "    )\n",
    "\n",
    "    # Remove excess spaces left by removing the link\n",
    "    cleaned_content = re.sub(r\"\\s+\", \" \", cleaned_content).strip()\n",
    "    lang = detect_language(cleaned_content.replace(\"\\n\", \" \").lower()).lower()\n",
    "    if cleaned_content:\n",
    "        ts_data.append([post[\"id\"], cleaned_content, lang, reply, post.get(\"in_reply_to_id\", None),])"
   ]
  },
  {
   "cell_type": "code",
   "execution_count": null,
   "id": "483be263-f2bd-44e5-ab59-73517772df4e",
   "metadata": {},
   "outputs": [],
   "source": [
    "ts_df = pd.DataFrame(ts_data, columns=[\"id\", \"post\", 'lang', 'reply', 'in_reply_to_id'])"
   ]
  },
  {
   "cell_type": "code",
   "execution_count": 12,
   "id": "ff75937a",
   "metadata": {},
   "outputs": [
    {
     "data": {
      "text/plain": [
       "3119722"
      ]
     },
     "execution_count": 12,
     "metadata": {},
     "output_type": "execute_result"
    }
   ],
   "source": [
    "ts_graph = nx.DiGraph()\n",
    "ts_edge_list = ts_df[[\"id\", \"in_reply_to_id\"]].values.tolist()\n",
    "# Create a directed graph\n",
    "# Add edges, skipping any with None as parent\n",
    "for child, parent in ts_edge_list:\n",
    "    if parent is not None:\n",
    "        ts_graph.add_edge(parent, child)\n",
    "    else:\n",
    "        # Optionally, add the root node manually\n",
    "        ts_graph.add_node(child)\n",
    "ts_graph.number_of_edges()"
   ]
  },
  {
   "cell_type": "code",
   "execution_count": 40,
   "id": "83b5c59b",
   "metadata": {},
   "outputs": [
    {
     "data": {
      "text/plain": [
       "reply\n",
       "True     3126222\n",
       "False      52129\n",
       "Name: count, dtype: int64"
      ]
     },
     "execution_count": 40,
     "metadata": {},
     "output_type": "execute_result"
    }
   ],
   "source": [
    "ts_df.reply.value_counts()"
   ]
  },
  {
   "cell_type": "code",
   "execution_count": 41,
   "id": "a7fe5390",
   "metadata": {},
   "outputs": [
    {
     "data": {
      "text/plain": [
       "lang\n",
       "en     3023322\n",
       "it       26964\n",
       "de       18225\n",
       "es       10194\n",
       "ru        9397\n",
       "        ...   \n",
       "mwl          1\n",
       "lrc          1\n",
       "vec          1\n",
       "mai          1\n",
       "pam          1\n",
       "Name: count, Length: 165, dtype: int64"
      ]
     },
     "execution_count": 41,
     "metadata": {},
     "output_type": "execute_result"
    }
   ],
   "source": [
    "ts_df.lang.value_counts()"
   ]
  },
  {
   "cell_type": "code",
   "execution_count": null,
   "id": "1d63009f",
   "metadata": {},
   "outputs": [
    {
     "name": "stderr",
     "output_type": "stream",
     "text": [
      "Batches: 100%|██████████| 99324/99324 [08:41<00:00, 190.30it/s]\n"
     ]
    }
   ],
   "source": [
    "ts_df = fastLexRank(ts_df)"
   ]
  },
  {
   "cell_type": "code",
   "execution_count": 71,
   "id": "e93c0903",
   "metadata": {},
   "outputs": [],
   "source": [
    "ts_df.sort_values(by='ap',ascending=False)[:20].to_csv(\"ts_lexrank.csv\")"
   ]
  },
  {
   "cell_type": "code",
   "execution_count": null,
   "id": "eead3d0c",
   "metadata": {},
   "outputs": [],
   "source": [
    "ts_df.sort_values(by='ap',ascending=False)"
   ]
  },
  {
   "cell_type": "code",
   "execution_count": 5,
   "id": "3af696bd",
   "metadata": {},
   "outputs": [],
   "source": [
    "import pandas as pd\n",
    "# Reload original full post columns directly from CSV files\n",
    "ts_df = pd.read_csv(\"ts_lexrank.csv\")\n",
    "bsky_df = pd.read_csv(\"bsky_top20.csv\")\n",
    "md_df = pd.read_csv(\"md_top20.csv\")\n",
    "\n",
    "# Add platform labels\n",
    "ts_df[\"Platform\"] = \"TruthSocial\"\n",
    "bsky_df[\"Platform\"] = \"Bluesky\"\n",
    "md_df[\"Platform\"] = \"Mastodon\"\n",
    "\n",
    "# Concatenate full original posts\n",
    "full_posts_df = pd.concat([\n",
    "    ts_df[[\"Platform\", \"post\"]],\n",
    "    bsky_df[[\"Platform\", \"post\"]],\n",
    "    md_df[[\"Platform\", \"post\"]]\n",
    "], axis=1,ignore_index=True)\n",
    "\n",
    "# Rename for LaTeX export\n",
    "#full_posts_df = full_posts_df.rename(columns={\"post\": \"Post\"})\n",
    "\n",
    "# Generate full LaTeX table with no truncation\n",
    "full_latex_content = full_posts_df.to_latex(\n",
    "    index=False,\n",
    "    escape=True,\n",
    "    longtable=True,\n",
    "    column_format=r\">{\\raggedright\\arraybackslash}p{2.5cm} >{\\raggedright\\arraybackslash}p{13cm}\"\n",
    ")\n"
   ]
  },
  {
   "cell_type": "code",
   "execution_count": 14,
   "id": "cf09838e-f7e6-493e-a9f3-4b2def9fb7b0",
   "metadata": {},
   "outputs": [
    {
     "name": "stderr",
     "output_type": "stream",
     "text": [
      "Batches: 100%|██████████| 670/670 [01:58<00:00,  5.64it/s]\n",
      "Batches: 100%|██████████| 51/51 [00:04<00:00, 11.66it/s]\n",
      "Batches: 100%|██████████| 34/34 [00:05<00:00,  6.62it/s]\n"
     ]
    }
   ],
   "source": [
    "import os\n",
    "\n",
    "os.environ[\"CUDA_VISIBLE_DEVICES\"] = \"5\"\n",
    "from sentence_transformers import SentenceTransformer, util\n",
    "import numpy as np\n",
    "\n",
    "# Step 1: Initialize the SBERT model\n",
    "model = SentenceTransformer(\n",
    "    \"all-MiniLM-L6-v2\",\n",
    ")  # You can use other SBERT models as well\n",
    "\n",
    "# Step 2: Define your two lists\n",
    "list_bsky = list(bsky_df.loc[bsky_df['reply']==False, \"post\"])\n",
    "list_ts = list(ts_df.loc[ts_df[\"reply\"]==False, \"post\"])\n",
    "list_md = list(md_df.loc[md_df[\"reply\"]==False, \"post\"])\n",
    "# Step 3: Compute embeddings for both lists\n",
    "embeddings_bsky = model.encode(\n",
    "    list_bsky, convert_to_tensor=True, show_progress_bar=True, batch_size=1024\n",
    ")\n",
    "embeddings_ts = model.encode(\n",
    "    list_ts, convert_to_tensor=True, show_progress_bar=True, batch_size=1024\n",
    ")\n",
    "\n",
    "embeddings_md = model.encode(\n",
    "    list_md, convert_to_tensor=True, show_progress_bar=True, batch_size=1024\n",
    ")\n"
   ]
  },
  {
   "cell_type": "code",
   "execution_count": 16,
   "id": "cbf25342",
   "metadata": {},
   "outputs": [],
   "source": [
    "# Step 4: Compute cosine similarity\n",
    "sim_tb = util.pytorch_cos_sim(embeddings_ts.cpu(), embeddings_bsky.cpu())\n",
    "sim_tm = util.pytorch_cos_sim(embeddings_ts.cpu(), embeddings_md.cpu())\n",
    "sim_bm = util.pytorch_cos_sim(embeddings_bsky.cpu(), embeddings_md.cpu())\n"
   ]
  },
  {
   "cell_type": "code",
   "execution_count": 17,
   "id": "d8ef82a1",
   "metadata": {},
   "outputs": [
    {
     "name": "stdout",
     "output_type": "stream",
     "text": [
      "Tripartite graph has 772143 nodes and 1137940 edges.\n"
     ]
    }
   ],
   "source": [
    "\n",
    "import networkx as nx\n",
    "threshold = 0.7  # similarity threshold\n",
    "\n",
    "# Offset functions to avoid index collisions\n",
    "offset_bsky = len(embeddings_ts)\n",
    "offset_masto = len(embeddings_ts) + len(embeddings_bsky)\n",
    "\n",
    "# Helper to add weighted edges from sparse matrix\n",
    "def add_edges_from_sim(sim_matrix, offset_a, offset_b):\n",
    "    row, col = np.where(sim_matrix > threshold)\n",
    "    weights = sim_matrix[row, col]\n",
    "    edges = [\n",
    "        (offset_a + i, offset_b + j, {\"weight\": float(w)})\n",
    "        for i, j, w in zip(row, col, weights)\n",
    "    ]\n",
    "    return edges\n",
    "\n",
    "# Build graph\n",
    "G = nx.Graph()\n",
    "\n",
    "# Add nodes with platform labels\n",
    "G.add_nodes_from(range(len(embeddings_ts)), platform=\"truth\")\n",
    "G.add_nodes_from(\n",
    "    range(offset_bsky, offset_bsky + len(embeddings_bsky)), platform=\"bluesky\"\n",
    ")\n",
    "G.add_nodes_from(\n",
    "    range(offset_masto, offset_masto + len(embeddings_md)), platform=\"mastodon\"\n",
    ")\n",
    "\n",
    "# Add edges from all pairwise similarities\n",
    "G.add_edges_from(add_edges_from_sim(sim_tb, 0, offset_bsky))\n",
    "G.add_edges_from(add_edges_from_sim(sim_tm, 0, offset_masto))\n",
    "G.add_edges_from(add_edges_from_sim(sim_bm, offset_bsky, offset_masto))\n",
    "\n",
    "print(f\"Tripartite graph has {G.number_of_nodes()} nodes and {G.number_of_edges()} edges.\")"
   ]
  },
  {
   "cell_type": "code",
   "execution_count": 19,
   "id": "8c07b8e3",
   "metadata": {},
   "outputs": [],
   "source": [
    "# Define your platform post lists\n",
    "truth_posts = list_ts\n",
    "bluesky_posts = list_bsky\n",
    "mastodon_posts = list_md\n",
    "\n",
    "# Compute offsets\n",
    "offset_bsky = len(truth_posts)\n",
    "offset_masto = len(truth_posts) + len(bluesky_posts)\n",
    "components = list(nx.connected_components(G))\n",
    "# find component larger than 1\n",
    "components = [c for c in components if len(c) > 1]\n",
    "component_posts = []\n",
    "\n",
    "for component in components:\n",
    "    posts = {\n",
    "        \"truth\": [],\n",
    "        \"bluesky\": [],\n",
    "        \"mastodon\": [],\n",
    "    }\n",
    "\n",
    "    for node in component:\n",
    "        if node < offset_bsky:\n",
    "            posts[\"truth\"].append(truth_posts[node])\n",
    "        elif offset_bsky <= node < offset_masto:\n",
    "            posts[\"bluesky\"].append(bluesky_posts[node - offset_bsky])\n",
    "        else:\n",
    "            posts[\"mastodon\"].append(mastodon_posts[node - offset_masto])\n",
    "\n",
    "    component_posts.append(posts)\n"
   ]
  },
  {
   "cell_type": "code",
   "execution_count": 50,
   "id": "cc418e83",
   "metadata": {},
   "outputs": [],
   "source": [
    "#writing to jsonl\n",
    "import json\n",
    "with open(\"tri_graph.jsonl\", \"w\") as f:\n",
    "    for component in component_posts:\n",
    "        json.dump(component, f)\n",
    "        f.write(\"\\n\")"
   ]
  },
  {
   "cell_type": "code",
   "execution_count": 24,
   "id": "50fe60be",
   "metadata": {},
   "outputs": [],
   "source": [
    "import pandas as pd\n",
    "\n",
    "component_posts_df = pd.DataFrame(component_posts)"
   ]
  },
  {
   "cell_type": "code",
   "execution_count": 38,
   "id": "c339ab7e",
   "metadata": {},
   "outputs": [],
   "source": [
    "component_posts_df = component_posts_df.map(lambda x: np.nan if len(x)==0 else x)\n",
    "component_posts_df.dropna(how=\"any\", inplace=True)"
   ]
  },
  {
   "cell_type": "code",
   "execution_count": 44,
   "id": "b008dfd1",
   "metadata": {},
   "outputs": [],
   "source": [
    "component_posts_df.to_json(\"triad_posts.jsonl\", orient=\"records\", lines=True)"
   ]
  },
  {
   "cell_type": "code",
   "execution_count": 1,
   "id": "be196eed",
   "metadata": {},
   "outputs": [],
   "source": [
    "import pandas as pd\n",
    "component_posts_df = pd.read_json(\"triad_posts_annoted.jsonl\", orient=\"records\", lines=True)\n",
    "\n",
    "    \n"
   ]
  },
  {
   "cell_type": "code",
   "execution_count": null,
   "id": "45106a13",
   "metadata": {},
   "outputs": [],
   "source": [
    "component_posts_df"
   ]
  },
  {
   "cell_type": "code",
   "execution_count": null,
   "id": "cf4c0a7a",
   "metadata": {},
   "outputs": [],
   "source": [
    "import pandas as pd\n",
    "import json\n",
    "import re\n",
    "df = component_posts_df.copy().dropna(how=\"any\")\n",
    "# Function to clean and parse the response JSON string\n",
    "def parse_json_block(text):\n",
    "    cleaned = re.sub(r\"```json|```\", \"\", text).strip()\n",
    "    return json.loads(cleaned)\n",
    "\n",
    "# Function to process the 'response' column (which contains the list of platform responses)\n",
    "def extract_platform_fields(response_list):\n",
    "    result = {}\n",
    "    if not response_list:\n",
    "        return np.nan\n",
    "    for item in response_list:\n",
    "        platform = item.get('platform')\n",
    "        raw_response = item.get('response', '')\n",
    "        try:\n",
    "            parsed = parse_json_block(raw_response)\n",
    "            for key, value in parsed.items():\n",
    "                # Optional: normalize keys (e.g., replace spaces with underscores)\n",
    "                safe_key = key.replace(\" \", \"_\")\n",
    "                result[f\"{platform}_{safe_key}\"] = value\n",
    "        except Exception as e:\n",
    "            print(f\"Error parsing JSON for platform '{platform}': {e}\")\n",
    "            continue\n",
    "    return pd.Series(result)\n",
    "\n",
    "# Apply it to your DataFrame (replace `df` with your actual variable)\n",
    "platform_fields = df['response'].apply(extract_platform_fields)\n",
    "\n",
    "# Combine the extracted fields back into the DataFrame\n",
    "df_final = pd.concat([df, platform_fields], axis=1)\n",
    "\n",
    "# Done!\n",
    "print(df_final.head())\n"
   ]
  },
  {
   "cell_type": "code",
   "execution_count": null,
   "id": "4775f64b",
   "metadata": {},
   "outputs": [],
   "source": [
    "df_final"
   ]
  },
  {
   "cell_type": "code",
   "execution_count": null,
   "id": "d0fde3c6",
   "metadata": {},
   "outputs": [],
   "source": [
    "from transformers import pipeline\n",
    "import torch\n",
    "import os \n",
    "os.environ[\"CUDA_VISIBLE_DEVICES\"] = \"5\"\n",
    "pipe = pipeline(\n",
    "    \"text-generation\",\n",
    "    model=\"google/gemma-3-12b-it\",\n",
    "    device=\"cuda\",\n",
    "    torch_dtype=torch.bfloat16\n",
    ")"
   ]
  },
  {
   "cell_type": "code",
   "execution_count": null,
   "id": "466c9249",
   "metadata": {},
   "outputs": [],
   "source": [
    "\n",
    "post_text = '.'.join(component_posts_df.iloc[1][\"truth\"])\n",
    "prompt = f\"\"\"\n",
    "You are a political discourse analyst.\n",
    "\n",
    "Classify the following social media post based on:\n",
    "\n",
    "1. Narrative Frame (e.g., corruption, persecution, legal justice, media bias, systemic inequality, etc.)\n",
    "2. Main Subject (e.g., Trump, Biden, etc.)\n",
    "3. Stance toward main subject (e.g., supportive, critical, neutral, unclear)\n",
    "4. Topic Focus (e.g., legal, cultural, institutional, personal attack)\n",
    "\n",
    "Return in JSON format.\n",
    "\n",
    "Post:\n",
    "\\\"\\\"\\\"{post_text}\\\"\\\"\\\"\n",
    "\"\"\"\n",
    "\n",
    "messages = [\n",
    "    {\n",
    "        \"role\": \"system\",\n",
    "        \"content\": \"You are a helpful assistant.\"\n",
    "    },\n",
    "    {\n",
    "        \"role\": \"user\",\n",
    "        \"content\":  prompt\n",
    "    },\n",
    "]\n",
    "\n",
    "output = pipe(messages, max_new_tokens=200)\n",
    "print(output[0][\"generated_text\"][-1][\"content\"])\n",
    "# Okay, let's take a look! \n",
    "# Based on the image, the animal on the candy is a **turtle**. \n",
    "# You can see the shell shape and the head and legs.\n"
   ]
  },
  {
   "cell_type": "code",
   "execution_count": null,
   "id": "7410fadb",
   "metadata": {},
   "outputs": [],
   "source": [
    "#loop throught the components\n",
    "from tqdm.auto import tqdm\n",
    "#response = []\n",
    "for i, component in tqdm(enumerate(component_posts_df.to_dict(orient=\"records\"))):\n",
    "    print(f\"Component {i+1}\")\n",
    "    if i != 221:\n",
    "        continue\n",
    "    current_response = []\n",
    "    for platform, posts in component.items():\n",
    "        if len(posts) > 10:\n",
    "            continue\n",
    "\n",
    "        post = \".\".join(posts)\n",
    "        prompt = f\"\"\"\n",
    "            You are a political discourse analyst.\n",
    "\n",
    "            Classify the following social media post based on:\n",
    "\n",
    "            1. Narrative Frame (e.g., corruption, persecution, legal justice, media bias, systemic inequality, etc.)\n",
    "            2. Main Subject (e.g., Trump, Biden, etc.)\n",
    "            3. Stance toward main subject (e.g., supportive, critical, neutral, unclear)\n",
    "            4. Topic Focus (e.g., legal, cultural, institutional, personal attack)\n",
    "\n",
    "            Return in JSON format.\n",
    "\n",
    "            Post:\n",
    "            \\\"\\\"\\\"{post}\\\"\\\"\\\"\n",
    "            \"\"\"\n",
    "\n",
    "        messages = [\n",
    "                {\n",
    "                    \"role\": \"system\",\n",
    "                    \"content\": \"You are a helpful assistant.\"\n",
    "                },\n",
    "                {\n",
    "                    \"role\": \"user\",\n",
    "                    \"content\":  prompt\n",
    "                },\n",
    "            ]\n",
    "\n",
    "        output = pipe(messages, max_new_tokens=200)\n",
    "        current_response.append({\"platform\": platform, \"response\": output[0][\"generated_text\"][-1][\"content\"]})\n",
    "    response.insert(i, current_response)\n",
    "    \n",
    "        "
   ]
  },
  {
   "cell_type": "code",
   "execution_count": null,
   "id": "291a9d67",
   "metadata": {},
   "outputs": [],
   "source": [
    "df_final.columns"
   ]
  },
  {
   "cell_type": "code",
   "execution_count": 21,
   "id": "d009acec",
   "metadata": {},
   "outputs": [
    {
     "name": "stderr",
     "output_type": "stream",
     "text": [
      "/tmp/ipykernel_726452/2682651831.py:16: FutureWarning: DataFrame.applymap has been deprecated. Use DataFrame.map instead.\n",
      "  df_cleaned = df_final[['truth_Stance_toward_main_subject', 'bluesky_Stance_toward_main_subject', \"mastodon_Stance_toward_main_subject\"]].applymap(clean_stance)\n",
      "/tmp/ipykernel_726452/2682651831.py:38: FutureWarning: DataFrame.applymap has been deprecated. Use DataFrame.map instead.\n",
      "  color_matrix = df_transposed.applymap(lambda x: color_map.get(x, '#dddddd'))\n"
     ]
    },
    {
     "data": {
      "image/png": "[encoded data removed]",
      "text/plain": [
       "<Figure size 4080x900 with 1 Axes>"
      ]
     },
     "metadata": {},
     "output_type": "display_data"
    }
   ],
   "source": [
    "import pandas as pd\n",
    "import seaborn as sns\n",
    "import matplotlib.pyplot as plt\n",
    "def clean_stance(value):\n",
    "    value = str(value).lower()\n",
    "    if 'critical' in value:\n",
    "        return 'critical'\n",
    "    elif 'supportive' in value:\n",
    "        return 'supportive'\n",
    "    elif 'neutral' in value:\n",
    "        return 'neutral'\n",
    "    else:\n",
    "        return 'neutral'  # optional fallback\n",
    "\n",
    "# Apply to your DataFrame (excluding the record_id)\n",
    "df_cleaned = df_final[['truth_Stance_toward_main_subject', 'bluesky_Stance_toward_main_subject', \"mastodon_Stance_toward_main_subject\"]].applymap(clean_stance)\n",
    "\n",
    "\n",
    "# Create a color map\n",
    "color_map = {\n",
    "    'critical': '#82a6c0',\n",
    "    'neutral': '#bbcd78',\n",
    "    'supportive': '#e26a69',\n",
    "    'unknown': '#dddddd'  # fallback color\n",
    "}\n",
    "\n",
    "# Create color matrix\n",
    "# Transpose so platforms are rows, records are columns\n",
    "df_transposed = df_cleaned.T\n",
    "\n",
    "# Color map\n",
    "color_map = {\n",
    "    'critical': '#82a6c0',\n",
    "    'neutral': '#bbcd78',\n",
    "    'supportive': '#e26a69',\n",
    "    'unknown': '#dddddd'\n",
    "}\n",
    "color_matrix = df_transposed.applymap(lambda x: color_map.get(x, '#dddddd'))\n",
    "# Plot\n",
    "fig, ax = plt.subplots(figsize=(len(df_transposed.columns) * 0.05, 3), dpi=300)  # 🔄 Wide, short\n",
    "for i in range(len(df_transposed)):\n",
    "    for j in range(len(df_transposed.columns)):\n",
    "        ax.add_patch(plt.Rectangle((j, i), 1, 5, color=color_matrix.iat[i, j]))\n",
    "\n",
    "# Style\n",
    "y_ticks_label = ['TruthSocial', 'Bluesky', 'Mastodon']\n",
    "\n",
    "ax.set_xlim(0, len(df_transposed.columns))\n",
    "ax.set_ylim(0, len(df_transposed))\n",
    "#ax.set_xticks([])\n",
    "ax.set_yticks([i + 0.5 for i in range(len(df_transposed.index))])\n",
    "ax.set_yticklabels(y_ticks_label, fontsize=9)\n",
    "ax.invert_yaxis()\n",
    "#ax.set_aspect('equal')\n",
    "plt.box(False)\n",
    "#plt.title('Stance Heatmap', fontsize=12)\n",
    "plt.tight_layout()\n",
    "plt.show()"
   ]
  },
  {
   "cell_type": "code",
   "execution_count": 15,
   "id": "7dc9429d",
   "metadata": {},
   "outputs": [],
   "source": [
    "component_posts_df = df_final"
   ]
  },
  {
   "cell_type": "code",
   "execution_count": 16,
   "id": "95c7ec69",
   "metadata": {},
   "outputs": [
    {
     "name": "stderr",
     "output_type": "stream",
     "text": [
      "272it [00:00, 331065.20it/s]\n"
     ]
    }
   ],
   "source": [
    "from tqdm import tqdm\n",
    "truth_posts = []\n",
    "bluesky_posts = []\n",
    "mastodon_posts = []\n",
    "truth_posts_to_matched_ids = {}\n",
    "bluesky_posts_to_matched_ids = {}\n",
    "mastodon_posts_to_matched_ids = {}\n",
    "for i, component in tqdm(enumerate(component_posts_df.to_dict(orient=\"records\"))):\n",
    "    truth_posts.extend(component[\"truth\"])\n",
    "    truth_posts_to_matched_id = { post:i for post in component[\"truth\"]}\n",
    "    truth_posts_to_matched_ids.update(truth_posts_to_matched_id)\n",
    "    bluesky_posts.extend(component[\"bluesky\"])\n",
    "    bluesky_posts_to_matched_id = {post:i for post in component[\"bluesky\"]}\n",
    "    bluesky_posts_to_matched_ids.update(bluesky_posts_to_matched_id)\n",
    "    mastodon_posts.extend(component[\"mastodon\"])\n",
    "    mastodon_posts_to_matched_id = {post:i for post in component[\"mastodon\"]}\n",
    "    mastodon_posts_to_matched_ids.update(mastodon_posts_to_matched_id)\n",
    "    "
   ]
  },
  {
   "cell_type": "code",
   "execution_count": 17,
   "id": "da1045fe",
   "metadata": {},
   "outputs": [],
   "source": [
    "truth_posts_post_to_id = ts_df.set_index(\"post\")[\"id\"].to_dict()\n",
    "bluesky_posts_post_to_id = bsky_df.set_index(\"post\")[\"id\"].to_dict()\n",
    "mastodon_posts_post_to_id = md_df.set_index(\"post\")[\"id\"].to_dict()"
   ]
  },
  {
   "cell_type": "code",
   "execution_count": 18,
   "id": "2bf12b8f",
   "metadata": {},
   "outputs": [],
   "source": [
    "truth_posts_id = []\n",
    "for post in truth_posts:\n",
    "    truth_posts_id.append(truth_posts_post_to_id[post])\n",
    "bluesky_posts_id = []\n",
    "for post in bluesky_posts:\n",
    "    bluesky_posts_id.append(bluesky_posts_post_to_id[post])\n",
    "mastodon_posts_id = []\n",
    "for post in mastodon_posts:\n",
    "    mastodon_posts_id.append(mastodon_posts_post_to_id[post])\n"
   ]
  },
  {
   "cell_type": "code",
   "execution_count": 19,
   "id": "adfd047c",
   "metadata": {},
   "outputs": [
    {
     "data": {
      "text/plain": [
       "588"
      ]
     },
     "execution_count": 19,
     "metadata": {},
     "output_type": "execute_result"
    }
   ],
   "source": [
    "len(truth_posts_id)"
   ]
  },
  {
   "cell_type": "code",
   "execution_count": 20,
   "id": "d3c9ae37",
   "metadata": {},
   "outputs": [],
   "source": [
    "#fetch trees of truth posts id\n",
    "\n",
    "#all the descendants of the post\n",
    "ts_trees = {}\n",
    "for root in truth_posts_id:\n",
    "    descendants = nx.descendants(ts_graph, root)\n",
    "    tree_nodes = {root} | descendants\n",
    "    ts_trees[root] = ts_graph.subgraph(tree_nodes).copy()\n",
    "\n",
    "#fetch trees of bsky posts id\n",
    "bsky_trees = {}\n",
    "for root in bluesky_posts_id:\n",
    "    descendants = nx.descendants(bsky_graph, root)\n",
    "    tree_nodes = {root} | descendants\n",
    "    bsky_trees[root] = bsky_graph.subgraph(tree_nodes).copy()\n",
    "#fetch trees of mastodon posts id\n",
    "mastodon_trees = {}\n",
    "for root in mastodon_posts_id:\n",
    "    descendants = nx.descendants(md_graph, root)\n",
    "    tree_nodes = {root} | descendants\n",
    "    mastodon_trees[root] = md_graph.subgraph(tree_nodes).copy()\n"
   ]
  },
  {
   "cell_type": "code",
   "execution_count": 21,
   "id": "3b629f2e",
   "metadata": {},
   "outputs": [],
   "source": [
    "# tree statistis: depth, breadth, number of nodes\n",
    "\n",
    "def tree_statistics(tree):\n",
    "    # Calculate depth (longest path from root to leaf)\n",
    "    depth = nx.dag_longest_path_length(tree)\n",
    "    \n",
    "    # Get the root (assuming it's the first node with in-degree 0)\n",
    "    roots = [n for n in tree.nodes() if tree.in_degree(n) == 0]\n",
    "    if not roots:\n",
    "        raise ValueError(\"Tree has no root (in-degree 0 node).\")\n",
    "    root = roots[0]\n",
    "    \n",
    "    # Compute levels from root\n",
    "    levels = nx.single_source_shortest_path_length(tree, root)\n",
    "    \n",
    "    # Count how many nodes at each level\n",
    "    level_counts = {}\n",
    "    for level in levels.values():\n",
    "        level_counts[level] = level_counts.get(level, 0) + 1\n",
    "    \n",
    "    # Breadth is the max number of nodes at the same level\n",
    "    breadth = max(level_counts.values())\n",
    "    \n",
    "    # Total number of nodes\n",
    "    num_nodes = tree.number_of_nodes()\n",
    "    \n",
    "    return depth, breadth, num_nodes\n",
    "\n",
    "ts_stats = {}\n",
    "for root, tree in ts_trees.items():\n",
    "    if tree.number_of_nodes() == 0:\n",
    "        ts_stats[root] = {\n",
    "            \"depth\": 0,\n",
    "            \"breadth\": 0,\n",
    "            \"num_nodes\": 1\n",
    "        }\n",
    "        continue\n",
    "    depth, breadth, num_nodes = tree_statistics(tree)\n",
    "    ts_stats[root] = {\n",
    "        \"depth\": depth,\n",
    "        \"breadth\": breadth,\n",
    "        \"num_nodes\": num_nodes\n",
    "    }\n",
    "bsky_stats = {}\n",
    "for root, tree in bsky_trees.items():\n",
    "    if tree.number_of_nodes() == 0:\n",
    "        bsky_stats[root] = {\n",
    "            \"depth\": 0,\n",
    "            \"breadth\": 0,\n",
    "            \"num_nodes\": 1\n",
    "        }\n",
    "        continue\n",
    "    depth, breadth, num_nodes = tree_statistics(tree)\n",
    "    bsky_stats[root] = {\n",
    "        \"depth\": depth,\n",
    "        \"breadth\": breadth,\n",
    "        \"num_nodes\": num_nodes\n",
    "    }\n",
    "mastodon_stats = {}\n",
    "for root, tree in mastodon_trees.items():\n",
    "    if tree.number_of_nodes() == 0:\n",
    "        mastodon_stats[root] = {\n",
    "            \"depth\": 0,\n",
    "            \"breadth\": 0,\n",
    "            \"num_nodes\": 1\n",
    "        }\n",
    "        continue\n",
    "    depth, breadth, num_nodes = tree_statistics(tree)\n",
    "    mastodon_stats[root] = {\n",
    "        \"depth\": depth,\n",
    "        \"breadth\": breadth,\n",
    "        \"num_nodes\": num_nodes\n",
    "    }"
   ]
  },
  {
   "cell_type": "code",
   "execution_count": 22,
   "id": "b4301ecd",
   "metadata": {},
   "outputs": [],
   "source": [
    "ts_stats_df = pd.DataFrame.from_dict(ts_stats, orient=\"index\")\n",
    "ts_stats_df[\"platform\"] = \"truth\"\n",
    "ts_stats_df[\"post_id\"] = ts_stats_df.index\n",
    "ts_stats_df.reset_index(drop=True, inplace=True)\n",
    "ts_stats_df.rename(columns={\"index\": \"post_id\"}, inplace=True)\n",
    "bsky_stats_df = pd.DataFrame.from_dict(bsky_stats, orient=\"index\")\n",
    "bsky_stats_df[\"platform\"] = \"bluesky\"\n",
    "bsky_stats_df[\"post_id\"] = bsky_stats_df.index\n",
    "bsky_stats_df.reset_index(drop=True, inplace=True)\n",
    "bsky_stats_df.rename(columns={\"index\": \"post_id\"}, inplace=True)\n",
    "mastodon_stats_df = pd.DataFrame.from_dict(mastodon_stats, orient=\"index\")\n",
    "mastodon_stats_df[\"platform\"] = \"mastodon\"\n",
    "mastodon_stats_df[\"post_id\"] = mastodon_stats_df.index\n",
    "mastodon_stats_df.reset_index(drop=True, inplace=True)\n",
    "mastodon_stats_df.rename(columns={\"index\": \"post_id\"}, inplace=True)\n",
    "# Concatenate all stats"
   ]
  },
  {
   "cell_type": "code",
   "execution_count": 23,
   "id": "61c0f791",
   "metadata": {},
   "outputs": [
    {
     "data": {
      "image/png": "[encoded data removed]",
      "text/plain": [
       "<Figure size 5400x1800 with 3 Axes>"
      ]
     },
     "metadata": {},
     "output_type": "display_data"
    }
   ],
   "source": [
    "#plot the ccdf of the trees\n",
    "import matplotlib.pyplot as plt\n",
    "import numpy as np\n",
    "metrics = [\"depth\", \"breadth\", \"num_nodes\"]\n",
    "# Concatenate all stats\n",
    "df = pd.concat([ts_stats_df, bsky_stats_df, mastodon_stats_df], ignore_index=True)\n",
    "# Define Azure and Gold colors\n",
    "colors = {\"bluesky\": \"#5F9EA0\", \"truth\": \"#F5BF03\", \"mastodon\": \"#FF6347\"}  \n",
    "\n",
    "# Plot CCDF comparison by platform\n",
    "fig, axes = plt.subplots(1, 3, figsize=(18, 6), dpi=300)  # 1 row, 4 columns\n",
    "\n",
    "for idx, metric in enumerate(metrics):\n",
    "    for platform in [\"bluesky\", \"truth\", 'mastodon']:\n",
    "        values = df[df[\"platform\"] == platform][metric].dropna()\n",
    "        sorted_vals = np.sort(values)\n",
    "        ccdf = 1 - np.arange(1, len(sorted_vals) + 1) / len(sorted_vals)\n",
    "        axes[idx].plot(sorted_vals, ccdf, label=f\"{platform.capitalize()}\",\n",
    "                       linewidth=2, color=colors[platform])\n",
    "    if metric == \"depth\":\n",
    "        metric_str = \"Depth\"\n",
    "    elif metric == \"num_nodes\":\n",
    "        metric_str = \"Size\"\n",
    "    elif metric_str == \"breadth\":\n",
    "        metric = \"Breadth\"\n",
    "    elif metric == \"structural_virality\":\n",
    "        metric_str = \"Structural Virality\"\n",
    "\n",
    "    if metric != \"structural_virality\":\n",
    "        axes[idx].set_xscale(\"log\")  # Apply log scale to x-axis\n",
    "    axes[idx].set_yscale(\"log\")  # Keep y-axis in log scale\n",
    "    axes[idx].set_xlabel(metric)\n",
    "    axes[idx].set_ylabel(\"CCDF (%)\")\n",
    "    axes[idx].set_title(f\"CCDF of {metric_str} by Platform\")\n",
    "    axes[idx].grid()\n",
    "\n",
    "\n",
    "\n",
    "plt.legend(\n",
    "    labels=[\"BlueSky\", \"TruthSocial\", \"Mastodon\"],\n",
    "    loc=\"upper center\", bbox_to_anchor=(0.5, -0.15), ncol=2\n",
    ")  # Move legend outside\n",
    "plt.tight_layout()\n",
    "plt.show()"
   ]
  },
  {
   "cell_type": "code",
   "execution_count": 24,
   "id": "d92824cd",
   "metadata": {},
   "outputs": [],
   "source": [
    "ts_stats_df['post'] = ts_stats_df['post_id'].map(ts_df.set_index('id')['post'])\n",
    "bsky_stats_df['post'] = bsky_stats_df['post_id'].map(bsky_df.set_index('id')['post'])\n",
    "mastodon_stats_df['post'] = mastodon_stats_df['post_id'].map(md_df.set_index('id')['post'])"
   ]
  },
  {
   "cell_type": "code",
   "execution_count": 25,
   "id": "f067d387",
   "metadata": {},
   "outputs": [],
   "source": [
    "ts_stats_df['matched_id'] = ts_stats_df['post'].map(truth_posts_to_matched_ids)\n",
    "bsky_stats_df['matched_id'] = bsky_stats_df['post'].map(bluesky_posts_to_matched_ids)\n",
    "mastodon_stats_df['matched_id'] = mastodon_stats_df['post'].map(mastodon_posts_to_matched_ids)\n"
   ]
  },
  {
   "cell_type": "code",
   "execution_count": null,
   "id": "75213dac",
   "metadata": {},
   "outputs": [],
   "source": [
    "ts_stats_df.loc[ts_stats_df['matched_id']==0,]"
   ]
  },
  {
   "cell_type": "code",
   "execution_count": null,
   "id": "879c8cb2",
   "metadata": {},
   "outputs": [],
   "source": [
    "bsky_stats_df.loc[bsky_stats_df['matched_id'] == 0, ]"
   ]
  },
  {
   "cell_type": "code",
   "execution_count": 28,
   "id": "ac3cb42e",
   "metadata": {},
   "outputs": [
    {
     "data": {
      "application/vnd.microsoft.datawrangler.viewer.v0+json": {
       "columns": [
        {
         "name": "index",
         "rawType": "int64",
         "type": "integer"
        },
        {
         "name": "depth",
         "rawType": "int64",
         "type": "integer"
        },
        {
         "name": "breadth",
         "rawType": "int64",
         "type": "integer"
        },
        {
         "name": "num_nodes",
         "rawType": "int64",
         "type": "integer"
        },
        {
         "name": "platform",
         "rawType": "object",
         "type": "string"
        },
        {
         "name": "post_id",
         "rawType": "object",
         "type": "string"
        },
        {
         "name": "post",
         "rawType": "object",
         "type": "string"
        },
        {
         "name": "matched_id",
         "rawType": "int64",
         "type": "integer"
        }
       ],
       "conversionMethod": "pd.DataFrame",
       "ref": "504dc22b-ac21-4b8a-8314-d409f6978e7f",
       "rows": [
        [
         "0",
         "0",
         "1",
         "1",
         "mastodon",
         "112597799705588821",
         "“Influential figures in Donald Trump’s orbit, including his former acting defense secretary, have proposed making military service mandatory,” the Washington Post reports. Said Christopher Miller: “It reinforces the bonds of civility. Why wouldn’t we give that a try?”",
         "0"
        ]
       ],
       "shape": {
        "columns": 7,
        "rows": 1
       }
      },
      "text/html": [
       "<div>\n",
       "<style scoped>\n",
       "    .dataframe tbody tr th:only-of-type {\n",
       "        vertical-align: middle;\n",
       "    }\n",
       "\n",
       "    .dataframe tbody tr th {\n",
       "        vertical-align: top;\n",
       "    }\n",
       "\n",
       "    .dataframe thead th {\n",
       "        text-align: right;\n",
       "    }\n",
       "</style>\n",
       "<table border=\"1\" class=\"dataframe\">\n",
       "  <thead>\n",
       "    <tr style=\"text-align: right;\">\n",
       "      <th></th>\n",
       "      <th>depth</th>\n",
       "      <th>breadth</th>\n",
       "      <th>num_nodes</th>\n",
       "      <th>platform</th>\n",
       "      <th>post_id</th>\n",
       "      <th>post</th>\n",
       "      <th>matched_id</th>\n",
       "    </tr>\n",
       "  </thead>\n",
       "  <tbody>\n",
       "    <tr>\n",
       "      <th>0</th>\n",
       "      <td>0</td>\n",
       "      <td>1</td>\n",
       "      <td>1</td>\n",
       "      <td>mastodon</td>\n",
       "      <td>112597799705588821</td>\n",
       "      <td>“Influential figures in Donald Trump’s orbit, ...</td>\n",
       "      <td>0</td>\n",
       "    </tr>\n",
       "  </tbody>\n",
       "</table>\n",
       "</div>"
      ],
      "text/plain": [
       "   depth  breadth  num_nodes  platform             post_id  \\\n",
       "0      0        1          1  mastodon  112597799705588821   \n",
       "\n",
       "                                                post  matched_id  \n",
       "0  “Influential figures in Donald Trump’s orbit, ...           0  "
      ]
     },
     "execution_count": 28,
     "metadata": {},
     "output_type": "execute_result"
    }
   ],
   "source": [
    "mastodon_stats_df.loc[mastodon_stats_df['matched_id'] == 0, ]"
   ]
  },
  {
   "cell_type": "code",
   "execution_count": null,
   "id": "cfb89059",
   "metadata": {},
   "outputs": [],
   "source": [
    "bsky_stats_df.loc[bsky_stats_df['matched_id'] == 170, ] "
   ]
  },
  {
   "cell_type": "code",
   "execution_count": null,
   "id": "9e0ede4b",
   "metadata": {},
   "outputs": [],
   "source": [
    "ts_stats_df.loc[ts_stats_df['matched_id'] == 170, ]"
   ]
  },
  {
   "cell_type": "code",
   "execution_count": 31,
   "id": "0ac4e83d",
   "metadata": {},
   "outputs": [
    {
     "data": {
      "application/vnd.microsoft.datawrangler.viewer.v0+json": {
       "columns": [
        {
         "name": "index",
         "rawType": "int64",
         "type": "integer"
        },
        {
         "name": "depth",
         "rawType": "int64",
         "type": "integer"
        },
        {
         "name": "breadth",
         "rawType": "int64",
         "type": "integer"
        },
        {
         "name": "num_nodes",
         "rawType": "int64",
         "type": "integer"
        },
        {
         "name": "platform",
         "rawType": "object",
         "type": "string"
        },
        {
         "name": "post_id",
         "rawType": "object",
         "type": "string"
        },
        {
         "name": "post",
         "rawType": "object",
         "type": "string"
        },
        {
         "name": "matched_id",
         "rawType": "int64",
         "type": "integer"
        }
       ],
       "conversionMethod": "pd.DataFrame",
       "ref": "06302747-7076-45a0-832e-4a4e47fa1986",
       "rows": [
        [
         "275",
         "3",
         "6",
         "10",
         "mastodon",
         "112633886021231318",
         "The doctor who leaked HIPAA-protected info about # trans kids to Chris Rufo has been indicted: Southern District of # Texas | Doctor charged for unauthorized access to personal information of pediatric patients at Texas Children’s Hospital | United States Department of Justice # transphobia # LGBTQIA # trans # healthcare # children # privacy # news",
         "170"
        ]
       ],
       "shape": {
        "columns": 7,
        "rows": 1
       }
      },
      "text/html": [
       "<div>\n",
       "<style scoped>\n",
       "    .dataframe tbody tr th:only-of-type {\n",
       "        vertical-align: middle;\n",
       "    }\n",
       "\n",
       "    .dataframe tbody tr th {\n",
       "        vertical-align: top;\n",
       "    }\n",
       "\n",
       "    .dataframe thead th {\n",
       "        text-align: right;\n",
       "    }\n",
       "</style>\n",
       "<table border=\"1\" class=\"dataframe\">\n",
       "  <thead>\n",
       "    <tr style=\"text-align: right;\">\n",
       "      <th></th>\n",
       "      <th>depth</th>\n",
       "      <th>breadth</th>\n",
       "      <th>num_nodes</th>\n",
       "      <th>platform</th>\n",
       "      <th>post_id</th>\n",
       "      <th>post</th>\n",
       "      <th>matched_id</th>\n",
       "    </tr>\n",
       "  </thead>\n",
       "  <tbody>\n",
       "    <tr>\n",
       "      <th>275</th>\n",
       "      <td>3</td>\n",
       "      <td>6</td>\n",
       "      <td>10</td>\n",
       "      <td>mastodon</td>\n",
       "      <td>112633886021231318</td>\n",
       "      <td>The doctor who leaked HIPAA-protected info abo...</td>\n",
       "      <td>170</td>\n",
       "    </tr>\n",
       "  </tbody>\n",
       "</table>\n",
       "</div>"
      ],
      "text/plain": [
       "     depth  breadth  num_nodes  platform             post_id  \\\n",
       "275      3        6         10  mastodon  112633886021231318   \n",
       "\n",
       "                                                  post  matched_id  \n",
       "275  The doctor who leaked HIPAA-protected info abo...         170  "
      ]
     },
     "execution_count": 31,
     "metadata": {},
     "output_type": "execute_result"
    }
   ],
   "source": [
    "mastodon_stats_df.loc[mastodon_stats_df['matched_id'] == 170, ]"
   ]
  },
  {
   "cell_type": "code",
   "execution_count": 32,
   "id": "54c32f7f",
   "metadata": {},
   "outputs": [],
   "source": [
    "ts_anchor_ids = ts_stats_df.loc[ts_stats_df['matched_id'] == 0,'post_id'].values\n",
    "ts_anchor_bsky_ids = bsky_stats_df.loc[bsky_stats_df['matched_id'] == 0,'post_id'].values\n",
    "ts_anchor_mastodon_ids = mastodon_stats_df.loc[mastodon_stats_df['matched_id'] == 0,'post_id'].values\n",
    "bsky_anchor_ids = bsky_stats_df.loc[bsky_stats_df['matched_id'] == 170,'post_id'].values\n",
    "bsky_anchor_ts_ids = ts_stats_df.loc[ts_stats_df['matched_id'] == 170,'post_id'].values\n",
    "bsky_anchor_mastodon_ids = mastodon_stats_df.loc[mastodon_stats_df['matched_id'] == 170,'post_id'].values"
   ]
  },
  {
   "cell_type": "code",
   "execution_count": 33,
   "id": "dbf464a9",
   "metadata": {},
   "outputs": [],
   "source": [
    "ts_anchor_posts_and_replies = []\n",
    "for post_id in ts_anchor_ids:\n",
    "    descendants = nx.descendants(ts_graph, post_id)\n",
    "    tree_nodes = {post_id} | descendants\n",
    "    truth_id_to_post = { post_id: post for post, post_id in truth_posts_post_to_id.items()}\n",
    "    posts = [truth_id_to_post.get(post_id) for post_id in tree_nodes]\n",
    "    ts_anchor_posts_and_replies.extend(posts)"
   ]
  },
  {
   "cell_type": "code",
   "execution_count": null,
   "id": "1f6ef17f",
   "metadata": {},
   "outputs": [],
   "source": [
    "from vllm import LLM, SamplingParams\n",
    "import os \n",
    "os.environ[\"CUDA_VISIBLE_DEVICES\"] = \"4,5\"\n",
    "sampling_params = SamplingParams(temperature=0.8, top_p=0.95)\n",
    "llm = LLM(model=\"google/gemma-3-12b-it\",tensor_parallel_size=2)\n"
   ]
  },
  {
   "cell_type": "code",
   "execution_count": 36,
   "id": "1f75965c",
   "metadata": {},
   "outputs": [],
   "source": [
    "def analyze_reply_chain(root_post, replies):\n",
    "    prompt = f\"\"\"\n",
    "    You are analyzing an online conversation.\n",
    "\n",
    "    Root Post:\n",
    "    \\\"\\\"\\\"{root_post}\\\"\\\"\\\"\n",
    "\n",
    "    Replies:\n",
    "    {replies}\n",
    "\n",
    "    Instructions:\n",
    "    Identify whether replies reinforce, challenge, or shift the narrative of the root post.\n",
    "\n",
    "    - Reinforce: The reply supports Trump and echoes the claim that The Washington Post is \"Fake News.\"\n",
    "\n",
    "    - Challenge: The reply supports the reporting by The Washington Post and disagrees with labeling it as \"Fake News.\"\n",
    "\n",
    "    - Shift: The reply introduces a new perspective or topic that is not directly related to Trump or The Washington Post, such as media in general, unrelated political issues, or broader societal commentary.\n",
    "\n",
    "    ONLY output one category from: [\"reinforce\", \"challenge\", \"shift\"].\n",
    "    \"\"\"\n",
    "    \n",
    "\n",
    "    return prompt\n",
    "root_post = \"The Fake News Washington Post came up with the ridiculous idea that Donald J. Trump will call for Mandatory Military Service. This is only a continuation of their EIGHT YEAR failed attempt to damage me with the Voters. The Story is completely untrue. In fact, I never even thought of that idea. Only a degenerate former Newspaper, which has lost 50% of its Readers, would fabricate such a tale. Just another Fake Story, one of many, made up by the DEAD Washington Compost!\"\n"
   ]
  },
  {
   "cell_type": "code",
   "execution_count": null,
   "id": "51ad8773",
   "metadata": {},
   "outputs": [],
   "source": [
    "batch_size = 8\n",
    "responses_all = []\n",
    "from tqdm.auto import tqdm\n",
    "for i in tqdm(range(0, len(ts_anchor_posts_and_replies), batch_size)):\n",
    "    batch = ts_anchor_posts_and_replies[i:i+batch_size]\n",
    "    batch = [post for post in batch if post]\n",
    "    batch = [analyze_reply_chain(root_post, post) for post in batch]\n",
    "    responses = llm.generate(batch, sampling_params)\n",
    "    responses = [response.outputs[0].text for response in responses]\n",
    "    responses_all.extend(responses)\n",
    "    if i<=16:\n",
    "        print(responses_all)\n",
    "    \n"
   ]
  },
  {
   "cell_type": "code",
   "execution_count": 38,
   "id": "b60d62ce",
   "metadata": {},
   "outputs": [],
   "source": [
    "def parse_output(input):\n",
    "    if \"reinforce\" in input:\n",
    "        return \"reinforce\"\n",
    "    elif \"challenge\" in input:\n",
    "        return \"challenge\"\n",
    "    elif \"shift\" in input:\n",
    "        return \"shift\"\n",
    "    else:\n",
    "        return \"unknown\"\n",
    "    \n",
    "#parse the output\n",
    "parsed_responses = [parse_output(response) for response in responses_all]"
   ]
  },
  {
   "cell_type": "code",
   "execution_count": 39,
   "id": "2e2b596d",
   "metadata": {},
   "outputs": [],
   "source": [
    "ts_anchor_posts_and_replies = [post for post in ts_anchor_posts_and_replies if post]"
   ]
  },
  {
   "cell_type": "code",
   "execution_count": 40,
   "id": "c4a3ab86",
   "metadata": {},
   "outputs": [],
   "source": [
    "ts_anchor_analysis = pd.DataFrame({\n",
    "    \"post\": ts_anchor_posts_and_replies,\n",
    "    \"response\": parsed_responses\n",
    "})"
   ]
  },
  {
   "cell_type": "code",
   "execution_count": 73,
   "id": "dd875c74",
   "metadata": {},
   "outputs": [
    {
     "data": {
      "application/vnd.microsoft.datawrangler.viewer.v0+json": {
       "columns": [
        {
         "name": "index",
         "rawType": "int64",
         "type": "integer"
        },
        {
         "name": "post",
         "rawType": "object",
         "type": "string"
        },
        {
         "name": "response",
         "rawType": "object",
         "type": "string"
        }
       ],
       "conversionMethod": "pd.DataFrame",
       "ref": "572f8a26-23a3-4c54-bcfd-c4678aa031a0",
       "rows": [
        [
         "0",
         "MSM constantly lies about President Trump constantly but not worried because majority of Americans see it.",
         "reinforce"
        ],
        [
         "1",
         "It couldn’t hurt, at this point. Need to get the grooming trans out first.",
         "reinforce"
        ],
        [
         "2",
         "The Draft would only be necessary under extreme conditions of national security. We have no need for one at this time or anytime in the foreseeable future.",
         "reinforce"
        ],
        [
         "3",
         "Because we weren't going to War every time we turned around.",
         "reinforce"
        ],
        [
         "4",
         "Didn't Biden recently say something about reinstituting the draft?",
         "reinforce"
        ],
        [
         "5",
         "What’s wrong with everyone serving a couple years in the military? A lot of other countries do this",
         "reinforce"
        ],
        [
         "6",
         "Trump knocks report, says he has 'never even thought' of bringing back mandatory military service",
         "reinforce"
        ],
        [
         "7",
         "Leftard globalists always project their faults and mandatory military service is no different. Germany, Poland, and the UK are also considering it under their WEF leaders who want WWIII to remain in power.",
         "reinforce"
        ],
        [
         "8",
         "Stop making up lies about President Trump!",
         "reinforce"
        ],
        [
         "9",
         "NY Times never gets it right… He’ll bring back the active military….",
         "reinforce"
        ],
        [
         "10",
         "No, # Democrats did",
         "reinforce"
        ],
        [
         "11",
         "Only if you do not have bone spurs…",
         "reinforce"
        ],
        [
         "12",
         "You know the one. The red one. IF you think Trump is Satan then you’ve been brain washed. You’ll love living under communism and Marxism. No thinking required on your part. They’ll tell you what to think.",
         "reinforce"
        ],
        [
         "13",
         "You have NO fucking FREEDOMS under the tyranny of the democrats. We are right back to why we fought the British !!!! Wake the F up !!!!!",
         "reinforce"
        ],
        [
         "14",
         "Soon, I am expecting attacks and Fake News from that pig Goldberg (pictured) from The Atlantic !!!",
         "reinforce"
        ],
        [
         "15",
         "Trump is fake!",
         "reinforce"
        ],
        [
         "16",
         "Left wing media always tells lies about Trump. Majority remembers how great things were under Trump & Biden is a mumbling fool.",
         "reinforce"
        ],
        [
         "17",
         "Maddow should be forced to join so someone could kick her ass.",
         "reinforce"
        ],
        [
         "18",
         "What Military... Military Industrial complex. Took over the Pentagon..... Woke took over the Military.... Fauci with the help Biden. Let many go because they refused the Vax America. Has no Military..... Just more BS. From the Fake News ‼️‼️‼️",
         "reinforce"
        ],
        [
         "19",
         "Did 10, freely gave my oath at 19.",
         "reinforce"
        ],
        [
         "20",
         "Wrong! # Democrats did",
         "reinforce"
        ],
        [
         "21",
         "I say first strike you do your time/pay your fine but on the second you get a mandatory 5 yrs in jail or 2 years military service.",
         "reinforce"
        ],
        [
         "22",
         "Another fake story!",
         "reinforce"
        ],
        [
         "23",
         "This is a DEMOCRAT NAZI 2way to WARN US people. If Biden CHEATED to WIN again, the Democrat NAZIS would use military to control us. Whatever the Democrat NAZIs say is the reflections of what they are about to do to us.",
         "reinforce"
        ],
        [
         "24",
         "I think the other side would be the ones that would do this",
         "reinforce"
        ],
        [
         "25",
         "Let’s make it simple……anything and everything that comes out of a Democrats mouth is a lie.",
         "reinforce"
        ],
        [
         "26",
         "The Democrats never stop lying about our favorite President.",
         "reinforce"
        ],
        [
         "27",
         "Biden nay have to..likeky be at war before trump takes office",
         "reinforce"
        ],
        [
         "28",
         "If we would allow drill sergeants to be drill sergeants again, I think it would. However, with the crap going on in the military right now, it wouldn't.",
         "reinforce"
        ],
        [
         "29",
         "Omg. Along with everything else the left media says about him. Really? They said he was going to do all sorts of bad things when he was president. Did he? No. Just made our country better while giving away every single paycheck.",
         "reinforce"
        ],
        [
         "30",
         "The U.S. military is voluntary and should remain so, but as long as you have Biden in office the stability in the U.S. will change and with that instability could create such an environment that the U.S. would have to make it mandatory service. Trump does not want mandatory service and would not have a need for it as the country would be stable and secure.",
         "reinforce"
        ],
        [
         "31",
         "The Democrats are getting desperate, they will use any means of making you look bad in the eyes of the public, but your people know better then to believe dumb things said, that we know wouldn't be expressed by you! To us right now you can do no wrong, and crooked Joe Biden can do no right!",
         "reinforce"
        ],
        [
         "32",
         "It’s ‘ridiculous.’",
         "reinforce"
        ],
        [
         "33",
         "The democrats are really desperate! 😡😡👍🇺🇸🫡🥃🥃",
         "reinforce"
        ],
        [
         "34",
         "Who really believes the orange felon?",
         "reinforce"
        ],
        [
         "35",
         "A 2yr stretch would do wonders i believe. Right after high school. Maybe instil self pride and confidence.",
         "reinforce"
        ],
        [
         "36",
         "This might be a good idea for ALL of our prisons inmates. I don’t mean to put them in our branches of the military, but to adopt military discipline and structure to the prison population. Most inmates have never received any structure and accountability in their lives and it just may teach them respect and a good work ethic….",
         "reinforce"
        ],
        [
         "37",
         "He won't need to do that at all. I bet my head that when DJT takes over the WH again, OurAmerican boys & girls will be more than willing to enlist.",
         "reinforce"
        ],
        [
         "38",
         "They make up more lies than Satan himself.",
         "reinforce"
        ],
        [
         "39",
         "Rapist? Lol ok satanist 😆",
         "reinforce"
        ],
        [
         "40",
         "Didn’t obriben say something about bringing back the draft because American soldiers may go to Ukraine?",
         "reinforce"
        ],
        [
         "41",
         "The Dems are trying to scare young voters who are defecting in droves‼️",
         "reinforce"
        ],
        [
         "42",
         "It should be for democrats only",
         "reinforce"
        ],
        [
         "43",
         "An army of transvestites and metro sexual demo boys should scare the hell out of most everybody. It would scare the hell out of me",
         "reinforce"
        ],
        [
         "44",
         "The orange Satan?",
         "reinforce"
        ],
        [
         "45",
         "The dems are going to throw anything and everything they can at Trump. With all the polls showing them trailing badly, they have become desperate.",
         "reinforce"
        ],
        [
         "46",
         "But will our nation benefit from that? We need to go back to a military of men and women that want to serve No freaks need apply.",
         "reinforce"
        ],
        [
         "47",
         "That was Biden’s idea!!",
         "reinforce"
        ],
        [
         "48",
         "The lies are coming fast and furious as it gets closer to election time..",
         "reinforce"
        ],
        [
         "49",
         "Mandatory for all Democrats.",
         "reinforce"
        ]
       ],
       "shape": {
        "columns": 2,
        "rows": 3497
       }
      },
      "text/html": [
       "<div>\n",
       "<style scoped>\n",
       "    .dataframe tbody tr th:only-of-type {\n",
       "        vertical-align: middle;\n",
       "    }\n",
       "\n",
       "    .dataframe tbody tr th {\n",
       "        vertical-align: top;\n",
       "    }\n",
       "\n",
       "    .dataframe thead th {\n",
       "        text-align: right;\n",
       "    }\n",
       "</style>\n",
       "<table border=\"1\" class=\"dataframe\">\n",
       "  <thead>\n",
       "    <tr style=\"text-align: right;\">\n",
       "      <th></th>\n",
       "      <th>post</th>\n",
       "      <th>response</th>\n",
       "    </tr>\n",
       "  </thead>\n",
       "  <tbody>\n",
       "    <tr>\n",
       "      <th>0</th>\n",
       "      <td>MSM constantly lies about President Trump cons...</td>\n",
       "      <td>reinforce</td>\n",
       "    </tr>\n",
       "    <tr>\n",
       "      <th>1</th>\n",
       "      <td>It couldn’t hurt, at this point. Need to get t...</td>\n",
       "      <td>reinforce</td>\n",
       "    </tr>\n",
       "    <tr>\n",
       "      <th>2</th>\n",
       "      <td>The Draft would only be necessary under extrem...</td>\n",
       "      <td>reinforce</td>\n",
       "    </tr>\n",
       "    <tr>\n",
       "      <th>3</th>\n",
       "      <td>Because we weren't going to War every time we ...</td>\n",
       "      <td>reinforce</td>\n",
       "    </tr>\n",
       "    <tr>\n",
       "      <th>4</th>\n",
       "      <td>Didn't Biden recently say something about rein...</td>\n",
       "      <td>reinforce</td>\n",
       "    </tr>\n",
       "    <tr>\n",
       "      <th>...</th>\n",
       "      <td>...</td>\n",
       "      <td>...</td>\n",
       "    </tr>\n",
       "    <tr>\n",
       "      <th>3492</th>\n",
       "      <td>Fuck the fake news .</td>\n",
       "      <td>reinforce</td>\n",
       "    </tr>\n",
       "    <tr>\n",
       "      <th>3493</th>\n",
       "      <td>My husband retired MC. Our youngest son spent ...</td>\n",
       "      <td>reinforce</td>\n",
       "    </tr>\n",
       "    <tr>\n",
       "      <th>3494</th>\n",
       "      <td>I 100% agree with you there. I don't recommend...</td>\n",
       "      <td>reinforce</td>\n",
       "    </tr>\n",
       "    <tr>\n",
       "      <th>3495</th>\n",
       "      <td>THE LYING FAKE NEWS MEDIA IS STARTING THEIR LY...</td>\n",
       "      <td>reinforce</td>\n",
       "    </tr>\n",
       "    <tr>\n",
       "      <th>3496</th>\n",
       "      <td>Media lies won’t work this time. November 5th ...</td>\n",
       "      <td>reinforce</td>\n",
       "    </tr>\n",
       "  </tbody>\n",
       "</table>\n",
       "<p>3497 rows × 2 columns</p>\n",
       "</div>"
      ],
      "text/plain": [
       "                                                   post   response\n",
       "0     MSM constantly lies about President Trump cons...  reinforce\n",
       "1     It couldn’t hurt, at this point. Need to get t...  reinforce\n",
       "2     The Draft would only be necessary under extrem...  reinforce\n",
       "3     Because we weren't going to War every time we ...  reinforce\n",
       "4     Didn't Biden recently say something about rein...  reinforce\n",
       "...                                                 ...        ...\n",
       "3492                               Fuck the fake news .  reinforce\n",
       "3493  My husband retired MC. Our youngest son spent ...  reinforce\n",
       "3494  I 100% agree with you there. I don't recommend...  reinforce\n",
       "3495  THE LYING FAKE NEWS MEDIA IS STARTING THEIR LY...  reinforce\n",
       "3496  Media lies won’t work this time. November 5th ...  reinforce\n",
       "\n",
       "[3497 rows x 2 columns]"
      ]
     },
     "execution_count": 73,
     "metadata": {},
     "output_type": "execute_result"
    }
   ],
   "source": [
    "ts_anchor_analysis"
   ]
  },
  {
   "cell_type": "code",
   "execution_count": null,
   "id": "7afd8abb",
   "metadata": {},
   "outputs": [],
   "source": [
    "ts_anchor_analysis.loc[ts_anchor_analysis[\"response\"] == \"challenge\", \"post\"].values"
   ]
  },
  {
   "cell_type": "code",
   "execution_count": 42,
   "id": "0b547103",
   "metadata": {},
   "outputs": [],
   "source": [
    "from collections import Counter\n",
    "# Count occurrences of each category\n",
    "counts = Counter(parsed_responses)"
   ]
  },
  {
   "cell_type": "code",
   "execution_count": 43,
   "id": "43e683c8",
   "metadata": {},
   "outputs": [
    {
     "data": {
      "text/plain": [
       "Counter({'reinforce': 3411, 'shift': 58, 'challenge': 28})"
      ]
     },
     "execution_count": 43,
     "metadata": {},
     "output_type": "execute_result"
    }
   ],
   "source": [
    "counts"
   ]
  },
  {
   "cell_type": "code",
   "execution_count": null,
   "id": "90ba7216",
   "metadata": {},
   "outputs": [],
   "source": [
    "\n"
   ]
  },
  {
   "cell_type": "code",
   "execution_count": 273,
   "id": "b1b5c3f7",
   "metadata": {},
   "outputs": [],
   "source": [
    "negative_conts = [annot[0]['label'] for annot in ts_anchor_posts_and_replies_sentiment if annot[0]['label'] == 'NEGATIVE']\n",
    "positive_conts = [annot[0]['label'] for annot in ts_anchor_posts_and_replies_sentiment if annot[0]['label'] == 'POSITIVE']\n"
   ]
  },
  {
   "cell_type": "code",
   "execution_count": 274,
   "id": "3ec6b425",
   "metadata": {},
   "outputs": [
    {
     "data": {
      "text/plain": [
       "(2578, 919)"
      ]
     },
     "execution_count": 274,
     "metadata": {},
     "output_type": "execute_result"
    }
   ],
   "source": [
    "len(negative_conts), len(positive_conts)"
   ]
  },
  {
   "cell_type": "code",
   "execution_count": null,
   "id": "131dc98d",
   "metadata": {},
   "outputs": [],
   "source": []
  },
  {
   "cell_type": "code",
   "execution_count": 44,
   "id": "01165083",
   "metadata": {},
   "outputs": [],
   "source": [
    "ts_anchor_bsky_posts_and_replies = []\n",
    "for post_id in ts_anchor_bsky_ids:\n",
    "    descendants = nx.descendants(bsky_graph, post_id)\n",
    "    tree_nodes = {post_id} | descendants\n",
    "    bsky_id_to_post = { post_id: post for post, post_id in bluesky_posts_post_to_id.items()}\n",
    "    posts = [bsky_id_to_post.get(post_id) for post_id in tree_nodes]\n",
    "    ts_anchor_bsky_posts_and_replies.extend(posts)\n",
    "\n",
    "    "
   ]
  },
  {
   "cell_type": "code",
   "execution_count": 45,
   "id": "63496be7",
   "metadata": {},
   "outputs": [],
   "source": [
    "bsky_anchor_posts_and_replies = []\n",
    "\n",
    "for post_id in bsky_anchor_ids:\n",
    "    descendants = nx.descendants(bsky_graph, post_id)\n",
    "    tree_nodes = {post_id} | descendants\n",
    "    bsky_id_to_post = { post_id: post for post, post_id in bluesky_posts_post_to_id.items()}\n",
    "    posts = [bsky_id_to_post.get(post_id) for post_id in tree_nodes]\n",
    "    bsky_anchor_posts_and_replies.extend(posts)\n",
    "    "
   ]
  },
  {
   "cell_type": "code",
   "execution_count": null,
   "id": "b96e6724",
   "metadata": {},
   "outputs": [],
   "source": [
    "#llm \n",
    "batch_size = 8\n",
    "responses_all_bsky = []\n",
    "def analyze_reply_chain(root_post, replies):\n",
    "    prompt = f\"\"\"\n",
    "    You are analyzing an online conversation.\n",
    "\n",
    "    Root Post:\n",
    "    \\\"\\\"\\\"{root_post}\\\"\\\"\\\"\n",
    "\n",
    "    Replies:\n",
    "    {replies}\n",
    "\n",
    "    Instructions:\n",
    "    - Identify whether replies favor, against, or irrelevant the narrative of the root post.\n",
    "    Favor: The reply criticizes the doctor’s alleged behavior (e.g., leaking private health records), supports the Department of Justice’s action, and/or justifies the unsealing of the indictment. These replies often argue that the doctor acted unethically or illegally, and may even advocate for punishment (e.g., jail time).\n",
    "\n",
    "    Against: The reply opposes the DOJ’s action and/or defends the doctor, often portraying him as a whistleblower or victim of political persecution. These replies suggest the indictment is politically motivated, frequently connecting it to broader conservative causes or defense of Trump.\n",
    "\n",
    "\n",
    "    Irrelevant: Topic which is not related to the root post at all.    \n",
    "\n",
    "    ONLY output one category from: [\"favor\", \"against\", \"irrelevant\"].\n",
    "    \"\"\"\n",
    "    \n",
    "    return prompt\n",
    "\n",
    "root_post = \"DOJ unseals indictment against doctor accused of stealing private health records from Texas Children's Hospital to leak to Chris Rufo to attack gender-affirming care\"\n",
    "from tqdm.auto import tqdm\n",
    "sampling_params = SamplingParams(temperature=0.8, top_p=0.95, max_tokens=200)\n",
    "for i in tqdm(range(0, len(bsky_anchor_posts_and_replies), batch_size)):\n",
    "    batch = bsky_anchor_posts_and_replies[i:i+batch_size]\n",
    "    batch = [post for post in batch if post]\n",
    "    batch = [analyze_reply_chain(root_post, post) for post in batch]\n",
    "    responses = llm.generate(batch, sampling_params,)\n",
    "    responses = [response.outputs[0].text for response in responses]\n",
    "    responses_all_bsky.extend(responses)"
   ]
  },
  {
   "cell_type": "code",
   "execution_count": 66,
   "id": "8ed8d0a1",
   "metadata": {},
   "outputs": [],
   "source": [
    "def parse_output(input):\n",
    "    if \"favor\" in input:\n",
    "        return \"favor\"\n",
    "    elif \"against\" in input:\n",
    "        return \"against\"\n",
    "    elif \"irrelevant\" in input:\n",
    "        return \"irrelevant\"\n",
    "    else:\n",
    "        return \"unknown\"\n",
    "parse_output_bsky = [parse_output(response) for response in responses_all_bsky]\n",
    "bsky_anchor_posts_and_replies = [post for post in bsky_anchor_posts_and_replies if post]\n",
    "bsky_anchor_analysis = pd.DataFrame({\n",
    "    \"post\": bsky_anchor_posts_and_replies,\n",
    "    \"response\": parse_output_bsky\n",
    "})\n",
    "\n"
   ]
  },
  {
   "cell_type": "code",
   "execution_count": 67,
   "id": "8a557836",
   "metadata": {},
   "outputs": [
    {
     "data": {
      "text/plain": [
       "response\n",
       "favor         113\n",
       "against        75\n",
       "irrelevant     43\n",
       "Name: count, dtype: int64"
      ]
     },
     "execution_count": 67,
     "metadata": {},
     "output_type": "execute_result"
    }
   ],
   "source": [
    "bsky_anchor_analysis.response.value_counts()"
   ]
  },
  {
   "cell_type": "code",
   "execution_count": null,
   "metadata": {},
   "outputs": [],
   "source": [
    "bsky_anchor_ts_posts_and_replies = []\n",
    "for post_id in bsky_anchor_ts_ids:\n",
    "    descendants = nx.descendants(ts_graph, post_id)\n",
    "    tree_nodes = {post_id} | descendants\n",
    "    ts_id_to_post = { post_id: post for post, post_id in truth_posts_post_to_id.items()}\n",
    "    posts = [ts_id_to_post.get(post_id) for post_id in tree_nodes]\n",
    "    bsky_anchor_ts_posts_and_replies.extend(posts)\n",
    "\n",
    "#llm\n",
    "batch_size = 8\n",
    "responses_all_bsky_ts = []\n",
    "\n",
    "for i in tqdm(range(0, len(bsky_anchor_ts_posts_and_replies), batch_size)):\n",
    "    batch = bsky_anchor_ts_posts_and_replies[i:i+batch_size]\n",
    "    batch = [post for post in batch if post]\n",
    "    batch = [analyze_reply_chain(root_post, post) for post in batch]\n",
    "    responses = llm.generate(batch, sampling_params)\n",
    "    responses = [response.outputs[0].text for response in responses]\n",
    "    responses_all_bsky_ts.extend(responses)\n",
    "parse_output_bsky_ts = [parse_output(response) for response in responses_all_bsky_ts]\n",
    "bsky_anchor_ts_posts_and_replies = [post for post in bsky_anchor_ts_posts_and_replies if post]\n",
    "\n",
    "bsky_anchor_ts_analysis = pd.DataFrame({\n",
    "    \"post\": bsky_anchor_ts_posts_and_replies,\n",
    "    \"response\": parse_output_bsky_ts\n",
    "})"
   ]
  },
  {
   "cell_type": "code",
   "execution_count": null,
   "id": "03d9f8a8",
   "metadata": {},
   "outputs": [],
   "source": [
    "bsky_anchor_ts_analysis"
   ]
  },
  {
   "cell_type": "code",
   "execution_count": 75,
   "id": "63183150",
   "metadata": {},
   "outputs": [],
   "source": [
    "#save\n",
    "bsky_anchor_analysis.to_csv(\"bsky_anchor_analysis.csv\")\n",
    "bsky_anchor_ts_analysis.to_csv(\"bsky_anchor_ts_analysis.csv\")\n",
    "ts_anchor_analysis.to_csv(\"ts_anchor_analysis.csv\")\n",
    "bsky_anchor_mastodon_analysis.to_csv(\"bsky_anchor_mastodon_analysis.csv\")\n",
    "\n"
   ]
  },
  {
   "cell_type": "code",
   "execution_count": null,
   "id": "5587b1df",
   "metadata": {},
   "outputs": [],
   "source": [
    "bsky_anchor_mastodon_posts_and_replies = []\n",
    "\n",
    "for post_id in bsky_anchor_mastodon_ids:\n",
    "    descendants = nx.descendants(md_graph, post_id)\n",
    "    tree_nodes = {post_id} | descendants\n",
    "    md_id_to_post = { post_id: post for post, post_id in mastodon_posts_post_to_id.items()}\n",
    "    posts = [md_id_to_post.get(post_id) for post_id in tree_nodes]\n",
    "    bsky_anchor_mastodon_posts_and_replies.extend(posts)\n",
    "#llm\n",
    "batch_size = 8\n",
    "responses_all_bsky_mastodon = []\n",
    "for i in tqdm(range(0, len(bsky_anchor_mastodon_posts_and_replies), batch_size)):\n",
    "    batch = bsky_anchor_mastodon_posts_and_replies[i:i+batch_size]\n",
    "    batch = [post for post in batch if post]\n",
    "    batch = [analyze_reply_chain(root_post, post) for post in batch]\n",
    "    responses = llm.generate(batch, sampling_params)\n",
    "    responses = [response.outputs[0].text for response in responses]\n",
    "    responses_all_bsky_mastodon.extend(responses)\n",
    "\n",
    "parse_output_bsky_mastodon = [parse_output(response) for response in responses_all_bsky_mastodon]\n",
    "bsky_anchor_mastodon_posts_and_replies = [post for post in bsky_anchor_mastodon_posts_and_replies if post]\n",
    "bsky_anchor_mastodon_analysis = pd.DataFrame({\n",
    "    \"post\": bsky_anchor_mastodon_posts_and_replies,\n",
    "    \"response\": parse_output_bsky_mastodon\n",
    "})\n",
    "\n",
    "bsky_anchor_mastodon_analysis.response.value_counts()"
   ]
  },
  {
   "cell_type": "code",
   "execution_count": 47,
   "id": "026dbf75",
   "metadata": {},
   "outputs": [],
   "source": [
    "df_pivot = df.pivot(columns='platform', values='response')"
   ]
  },
  {
   "cell_type": "code",
   "execution_count": 55,
   "id": "fa983a42",
   "metadata": {},
   "outputs": [],
   "source": [
    "component_posts_df.dropna(how=\"any\", inplace=True)"
   ]
  },
  {
   "cell_type": "code",
   "execution_count": null,
   "id": "0c0411fd",
   "metadata": {},
   "outputs": [],
   "source": [
    "component_posts_df"
   ]
  },
  {
   "cell_type": "code",
   "execution_count": null,
   "id": "46e788ed",
   "metadata": {},
   "outputs": [],
   "source": [
    "import pandas as pd\n",
    "import json\n",
    "import re\n",
    "df = component_posts_df.copy().dropna(how=\"any\")\n",
    "# Function to clean and parse the response JSON string\n",
    "def parse_json_block(text):\n",
    "    cleaned = re.sub(r\"```json|```\", \"\", text).strip()\n",
    "    return json.loads(cleaned)\n",
    "\n",
    "# Function to process the 'response' column (which contains the list of platform responses)\n",
    "def extract_platform_fields(response_list):\n",
    "    result = {}\n",
    "    if not response_list:\n",
    "        return np.nan\n",
    "    for item in response_list:\n",
    "        platform = item.get('platform')\n",
    "        raw_response = item.get('response', '')\n",
    "        try:\n",
    "            parsed = parse_json_block(raw_response)\n",
    "            for key, value in parsed.items():\n",
    "                # Optional: normalize keys (e.g., replace spaces with underscores)\n",
    "                safe_key = key.replace(\" \", \"_\")\n",
    "                result[f\"{platform}_{safe_key}\"] = value\n",
    "        except Exception as e:\n",
    "            print(f\"Error parsing JSON for platform '{platform}': {e}\")\n",
    "            continue\n",
    "    return pd.Series(result)\n",
    "\n",
    "# Apply it to your DataFrame (replace `df` with your actual variable)\n",
    "platform_fields = df['response'].apply(extract_platform_fields)\n",
    "\n",
    "# Combine the extracted fields back into the DataFrame\n",
    "df_final = pd.concat([df, platform_fields], axis=1)\n",
    "\n",
    "# Done!\n",
    "print(df_final.head())\n"
   ]
  },
  {
   "cell_type": "code",
   "execution_count": null,
   "id": "43127591",
   "metadata": {},
   "outputs": [],
   "source": [
    "df_final"
   ]
  },
  {
   "cell_type": "code",
   "execution_count": null,
   "id": "e8d5f2ab",
   "metadata": {},
   "outputs": [],
   "source": [
    "import pandas as pd\n",
    "import json\n",
    "import re\n",
    "df = component_posts_df.copy()\n",
    "def parse_json_block(text):\n",
    "    # Remove code block markers and parse JSON\n",
    "    cleaned = re.sub(r\"```json|```\", \"\", text).strip()\n",
    "    return json.loads(cleaned)\n",
    "\n",
    "def expand_platform_json(row):\n",
    "    platform_data = {}\n",
    "    for item in row:\n",
    "        platform = item['platform']\n",
    "        parsed = parse_json_block(item['response'])\n",
    "        for k, v in parsed.items():\n",
    "            col_name = f\"{platform}_{k}\"\n",
    "            platform_data[col_name] = v\n",
    "    return pd.Series(platform_data)\n",
    "\n",
    "# Assuming df is your original dataframe and the platform response column is like this:\n",
    "# df['platform_jsons'] = the column containing [{'platform': ..., 'response': ...}, {...}...]\n",
    "\n",
    "# Apply expansion\n",
    "platform_columns = df['platform_jsons'].apply(expand_platform_json)\n",
    "\n",
    "# Merge with original DataFrame if needed\n",
    "df_final = pd.concat([df, platform_columns], axis=1)\n",
    "\n",
    "# Optional: drop the original platform_jsons column\n",
    "# df_final = df_final.drop(columns=['platform_jsons'])\n",
    "\n",
    "print(df_final)\n"
   ]
  },
  {
   "cell_type": "code",
   "execution_count": null,
   "id": "4ace6ef4",
   "metadata": {},
   "outputs": [
    {
     "ename": "NameError",
     "evalue": "name 'md_df' is not defined",
     "output_type": "error",
     "traceback": [
      "\u001b[0;31m---------------------------------------------------------------------------\u001b[0m",
      "\u001b[0;31mNameError\u001b[0m                                 Traceback (most recent call last)",
      "Cell \u001b[0;32mIn[63], line 1\u001b[0m\n\u001b[0;32m----> 1\u001b[0m \u001b[43mmd_df\u001b[49m\n",
      "\u001b[0;31mNameError\u001b[0m: name 'md_df' is not defined"
     ]
    }
   ],
   "source": []
  },
  {
   "cell_type": "code",
   "execution_count": 62,
   "id": "07b7b13d",
   "metadata": {},
   "outputs": [
    {
     "name": "stdout",
     "output_type": "stream",
     "text": [
      "178\n",
      "177\n",
      "189\n"
     ]
    }
   ],
   "source": [
    "print(df_final.truth_Main_Subject.str.contains(\"Trump\", case=False).sum())\n",
    "print(df_final.bluesky_Main_Subject.str.contains(\"Trump\", case=False).sum())\n",
    "print(df_final.mastodon_Main_Subject.str.contains(\"Trump\", case=False).sum())\n"
   ]
  },
  {
   "cell_type": "code",
   "execution_count": 21,
   "id": "79cf6963",
   "metadata": {},
   "outputs": [
    {
     "name": "stdout",
     "output_type": "stream",
     "text": [
      "Bipartite graph has 738139 nodes and 321504 edges.\n"
     ]
    }
   ],
   "source": [
    "from scipy.sparse import coo_matrix\n",
    "import networkx as nx\n",
    "\n",
    "# Use sparse representation for performance\n",
    "sparse_sim = coo_matrix((weights, (row, col)), shape=similarity_matrix.shape)\n",
    "\n",
    "# Initialize bipartite graph\n",
    "B = nx.Graph()\n",
    "\n",
    "# Add nodes for Platform A (0 to len(embeddings_a) - 1) and Platform B\n",
    "B.add_nodes_from(range(len(embeddings1)), bipartite=0)\n",
    "B.add_nodes_from(\n",
    "    range(len(embeddings1), len(embeddings1) + len(embeddings2)), bipartite=1\n",
    ")\n",
    "\n",
    "# Add edges from sparse similarity data\n",
    "edges = [\n",
    "    (r, len(embeddings1) + c, {\"weight\": w})\n",
    "    for r, c, w in zip(sparse_sim.row, sparse_sim.col, sparse_sim.data)\n",
    "]\n",
    "B.add_edges_from(edges)\n",
    "\n",
    "# Print graph information\n",
    "print(\n",
    "    f\"Bipartite graph has {B.number_of_nodes()} nodes and {B.number_of_edges()} edges.\"\n",
    ")"
   ]
  },
  {
   "cell_type": "code",
   "execution_count": 22,
   "id": "be1a3142",
   "metadata": {},
   "outputs": [],
   "source": [
    "components = list(nx.connected_components(B))"
   ]
  },
  {
   "cell_type": "code",
   "execution_count": 23,
   "id": "d82ee5f4",
   "metadata": {},
   "outputs": [],
   "source": [
    "# find component larger than 1\n",
    "components = [c for c in components if len(c) > 1]\n"
   ]
  },
  {
   "cell_type": "code",
   "execution_count": null,
   "id": "b068085c",
   "metadata": {},
   "outputs": [],
   "source": [
    "components"
   ]
  },
  {
   "cell_type": "code",
   "execution_count": null,
   "id": "b5ad7757",
   "metadata": {},
   "outputs": [
    {
     "ename": "TypeError",
     "evalue": "'>' not supported between instances of 'set' and 'int'",
     "output_type": "error",
     "traceback": [
      "\u001b[0;31m---------------------------------------------------------------------------\u001b[0m",
      "\u001b[0;31mTypeError\u001b[0m                                 Traceback (most recent call last)",
      "Cell \u001b[0;32mIn[25], line 1\u001b[0m\n\u001b[0;32m----> 1\u001b[0m \u001b[38;5;28mprint\u001b[39m(\u001b[38;5;124mf\u001b[39m\u001b[38;5;124m\"\u001b[39m\u001b[38;5;124mNumber of components larger than 1: \u001b[39m\u001b[38;5;132;01m{\u001b[39;00m\u001b[38;5;28msum\u001b[39m(\u001b[43mnp\u001b[49m\u001b[38;5;241;43m.\u001b[39;49m\u001b[43marray\u001b[49m\u001b[43m(\u001b[49m\u001b[43mcomponents\u001b[49m\u001b[43m)\u001b[49m\u001b[38;5;250;43m \u001b[39;49m\u001b[38;5;241;43m>\u001b[39;49m\u001b[38;5;250;43m \u001b[39;49m\u001b[38;5;241;43m1\u001b[39;49m)\u001b[38;5;132;01m}\u001b[39;00m\u001b[38;5;124m\"\u001b[39m)\n",
      "\u001b[0;31mTypeError\u001b[0m: '>' not supported between instances of 'set' and 'int'"
     ]
    }
   ],
   "source": [
    "print(f\"Number of components larger than 1: {sum(np.array(components) > 1)}\")"
   ]
  },
  {
   "cell_type": "code",
   "execution_count": 29,
   "id": "be169237",
   "metadata": {},
   "outputs": [],
   "source": [
    "# Example: Retrieve posts for each component\n",
    "platform_a_posts = list1\n",
    "platform_b_posts = list2\n",
    "component_posts = []\n",
    "for component in components:\n",
    "    posts = {\n",
    "        \"bsky\": [\n",
    "            platform_a_posts[node] for node in component if node < len(platform_a_posts)\n",
    "        ],\n",
    "        \"ts\": [\n",
    "            platform_b_posts[node - len(platform_a_posts)]\n",
    "            for node in component\n",
    "            if node >= len(platform_a_posts)\n",
    "        ],\n",
    "    }\n",
    "    component_posts.append(posts)"
   ]
  },
  {
   "cell_type": "code",
   "execution_count": 31,
   "id": "3e358eb2",
   "metadata": {},
   "outputs": [],
   "source": [
    "with open('matched_output.jsonl', 'w') as outfile:\n",
    "    for entry in component_posts:\n",
    "        json.dump(entry, outfile)\n",
    "        outfile.write('\\n')"
   ]
  },
  {
   "cell_type": "code",
   "execution_count": 2,
   "id": "4ba2b2e4",
   "metadata": {},
   "outputs": [],
   "source": [
    "import pandas as pd    \n",
    "matched = pd.read_json(path_or_buf='matched_output.jsonl', lines=True)"
   ]
  },
  {
   "cell_type": "code",
   "execution_count": null,
   "id": "c8775614",
   "metadata": {},
   "outputs": [],
   "source": [
    "matched"
   ]
  },
  {
   "cell_type": "code",
   "execution_count": null,
   "id": "4045a89a",
   "metadata": {},
   "outputs": [],
   "source": []
  }
 ],
 "metadata": {
  "kernelspec": {
   "display_name": ".venv",
   "language": "python",
   "name": "python3"
  },
  "language_info": {
   "codemirror_mode": {
    "name": "ipython",
    "version": 3
   },
   "file_extension": ".py",
   "mimetype": "text/x-python",
   "name": "python",
   "nbconvert_exporter": "python",
   "pygments_lexer": "ipython3",
   "version": "3.10.12"
  }
 },
 "nbformat": 4,
 "nbformat_minor": 5
}
